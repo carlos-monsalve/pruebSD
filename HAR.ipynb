{
 "cells": [
  {
   "cell_type": "code",
   "execution_count": null,
   "id": "5aaba3ed",
   "metadata": {},
   "outputs": [],
   "source": [
    "import tensorflow as tf\n",
    "import keras\n",
    "from tensorflow.keras.models import Sequential\n",
    "from tensorflow.keras.layers import Conv2D, MaxPooling2D, ZeroPadding2D\n",
    "from tensorflow.keras.layers import Flatten, Dropout, Dense, BatchNormalization, Activation\n",
    "from tensorflow.keras.optimizers import Adam\n",
    "from tensorflow.keras.callbacks import LearningRateScheduler, ModelCheckpoint\n",
    "from tensorflow.keras.callbacks import TensorBoard\n",
    "print(tf.__version__)\n",
    "print(keras.__version__)"
   ]
  },
  {
   "cell_type": "code",
   "execution_count": null,
   "id": "84ce2287",
   "metadata": {},
   "outputs": [],
   "source": [
    "from PIL import Image, ImageDraw\n",
    "import matplotlib.pyplot as plt \n",
    "import numpy as np\n",
    "import pandas as pd\n",
    "from scipy import stats\n",
    "from sklearn.model_selection import train_test_split"
   ]
  },
  {
   "cell_type": "code",
   "execution_count": null,
   "id": "acd1c189",
   "metadata": {},
   "outputs": [],
   "source": [
    "columns = ['user','activity','timestamp', 'x-axis', 'y-axis', 'z-axis']\n",
    "df = pd.read_csv('/home/carlos/Documents/Base/Dataset/merged21.csv', header = None, names = columns)\n",
    "df"
   ]
  },
  {
   "cell_type": "code",
   "execution_count": null,
   "id": "c8b2c9ac",
   "metadata": {},
   "outputs": [],
   "source": [
    "df['x-axis'] = df['x-axis'].astype('int64')\n",
    "df['y-axis'] = df['y-axis'].astype('int64')\n",
    "df['z-axis'] = df['z-axis'].astype('int64')\n",
    "df.info()"
   ]
  },
  {
   "cell_type": "code",
   "execution_count": null,
   "id": "fde60ae4",
   "metadata": {},
   "outputs": [],
   "source": [
    "df['activity'].value_counts().plot(kind='bar', title='Training examples by activity type')"
   ]
  },
  {
   "cell_type": "code",
   "execution_count": null,
   "id": "18bcc2ab",
   "metadata": {},
   "outputs": [],
   "source": [
    "WINDOW_SIZE = 200\n",
    "OUTPUT_LABELS = 5\n",
    "step = 20\n",
    "LABELS = ['Jogging', 'Running', 'Jumping', 'Fall', 'Standing']\n",
    "\n",
    "# load data\n",
    "segments = []\n",
    "labels = []\n",
    "for i in range(0, len(df) - WINDOW_SIZE, step):\n",
    "    xa = df['x-axis'].values[i: i + WINDOW_SIZE]\n",
    "    ya = df['y-axis'].values[i: i + WINDOW_SIZE]\n",
    "    za = df['z-axis'].values[i: i + WINDOW_SIZE]\n",
    "    label = np.zeros(OUTPUT_LABELS, dtype=np.uint8)\n",
    "    label[LABELS.index(stats.mode(df['activity'][i: i + WINDOW_SIZE])[0][0])] = 1\n",
    "\n",
    "    segments.append([xa, ya, za])\n",
    "    labels.append(label)"
   ]
  },
  {
   "cell_type": "code",
   "execution_count": null,
   "id": "787c814b",
   "metadata": {},
   "outputs": [],
   "source": [
    "reshaped_segments = np.asarray(segments, dtype = np.uint8)\n",
    "reshaped_segments = np.transpose(reshaped_segments, [0, 2, 1])\n",
    "labels = np.asarray(labels)"
   ]
  },
  {
   "cell_type": "code",
   "execution_count": null,
   "id": "2aa8129e",
   "metadata": {},
   "outputs": [],
   "source": [
    "reshaped_segments = np.reshape(reshaped_segments, [-1, 10, 20 ,3])"
   ]
  },
  {
   "cell_type": "code",
   "execution_count": null,
   "id": "1e96ed7b",
   "metadata": {},
   "outputs": [],
   "source": [
    "RANDOM_SEED=123\n",
    "X_train, X_test, y_train, y_test = train_test_split(reshaped_segments, labels, test_size=0.10, random_state=RANDOM_SEED)\n",
    "X_train, X_valid, y_train, y_valid= train_test_split(X_train, y_train, test_size=0.20, random_state=RANDOM_SEED)\n",
    "\n",
    "print('segments shape: ', reshaped_segments.shape)\n",
    "print(reshaped_segments.shape[0], 'training samples')\n",
    "print('labels shape: ', labels.shape)\n",
    "\n",
    "print('train data', X_train.shape)\n",
    "print('valid data', X_valid.shape)\n",
    "print('test data', X_test.shape)"
   ]
  },
  {
   "cell_type": "code",
   "execution_count": null,
   "id": "4e26fb32",
   "metadata": {},
   "outputs": [],
   "source": [
    "DROP_OUT = 0.2\n",
    "OPTIMIZER_LR = 0.001\n",
    "DENSE_UNIT_1 = 200\n",
    "DENSE_UNIT_2 = 100\n",
    "\n",
    "model = Sequential()\n",
    "model.add(ZeroPadding2D(padding=((1, 1), (1, 1)), input_shape=(10, 20, 3)))\n",
    "model.add(Conv2D(32, (3,3), strides=(1, 1), padding='valid', activation='relu', input_shape=(10, 20, 3)))\n",
    "\n",
    "model.add(ZeroPadding2D(padding=((1, 1), (1, 1))))\n",
    "model.add(Conv2D(64, (3, 3), strides=(1, 1),  padding='valid', activation='relu'))    \n",
    "model.add(MaxPooling2D(pool_size=(2, 2), padding=(\"same\")))\n",
    "    \n",
    "model.add(Flatten())\n",
    "\n",
    "model.add(Dense(DENSE_UNIT_1, activation=\"relu\"))\n",
    "model.add(Dropout(DROP_OUT))\n",
    "\n",
    "model.add(Dense(DENSE_UNIT_2, activation=\"relu\"))\n",
    "model.add(Dropout(DROP_OUT))\n",
    "\n",
    "model.add(Dense(OUTPUT_LABELS, activation=\"softmax\"))\n",
    "adam = Adam(lr = OPTIMIZER_LR, decay=1e-6)"
   ]
  },
  {
   "cell_type": "code",
   "execution_count": null,
   "id": "8eb3b4e1",
   "metadata": {},
   "outputs": [],
   "source": [
    "model.compile(loss='categorical_crossentropy', optimizer=adam, metrics=['accuracy'])\n",
    "history = model.fit(X_train, y_train, validation_data=(X_valid, y_valid), epochs=8, batch_size=512, verbose=2)"
   ]
  },
  {
   "cell_type": "code",
   "execution_count": null,
   "id": "b1de7c60",
   "metadata": {},
   "outputs": [],
   "source": [
    "model.summary()"
   ]
  },
  {
   "cell_type": "code",
   "execution_count": null,
   "id": "285bf7ef",
   "metadata": {},
   "outputs": [],
   "source": [
    "def plot_learningCurve(history, epochs):\n",
    "  # Plot training & validation accuracy values\n",
    "  epoch_range = range(1, epochs+1)\n",
    "  plt.plot(epoch_range, history.history['accuracy'])\n",
    "  plt.plot(epoch_range, history.history['val_accuracy'])\n",
    "  plt.title('Model accuracy')\n",
    "  plt.ylabel('Accuracy')\n",
    "  plt.xlabel('Epoch')\n",
    "  plt.legend(['Train', 'Val'], loc='upper left')\n",
    "  plt.show()\n",
    "\n",
    "  # Plot training & validation loss values\n",
    "  plt.plot(epoch_range, history.history['loss'])\n",
    "  plt.plot(epoch_range, history.history['val_loss'])\n",
    "  plt.title('Model loss')\n",
    "  plt.ylabel('Loss')\n",
    "  plt.xlabel('Epoch')\n",
    "  plt.legend(['Train', 'Val'], loc='upper left')\n",
    "  plt.show()\n",
    "\n",
    "plot_learningCurve(history, 8)"
   ]
  },
  {
   "cell_type": "code",
   "execution_count": null,
   "id": "0313e022",
   "metadata": {},
   "outputs": [],
   "source": [
    "from sklearn.metrics import confusion_matrix\n",
    "import itertools\n",
    "import seaborn as sns\n",
    "\n",
    "\n",
    "def plot_confusion_matrix(cm, classes,\n",
    "                          normalize=False,\n",
    "                          title='Confusion matrix',\n",
    "                          cmap=plt.cm.Blues):\n",
    "    \"\"\"\n",
    "    This function prints and plots the confusion matrix.\n",
    "    Normalization can be applied by setting `normalize=True`.\n",
    "    \"\"\"\n",
    "    if normalize:\n",
    "        cm = cm.astype('float') / cm.sum(axis=1)[:, np.newaxis]\n",
    "        print(\"Normalized confusion matrix\")\n",
    "    else:\n",
    "        print('Confusion matrix, without normalization')\n",
    "\n",
    "    print(cm)\n",
    "\n",
    "    plt.imshow(cm, interpolation='nearest', cmap=cmap)\n",
    "    plt.title(title)\n",
    "    plt.colorbar()\n",
    "    tick_marks = np.arange(len(classes))\n",
    "    plt.xticks(tick_marks, classes, rotation=45)\n",
    "    plt.yticks(tick_marks, classes)\n",
    "\n",
    "    fmt = '.2f' if normalize else 'd'\n",
    "    thresh = cm.max() / 2.\n",
    "    for i, j in itertools.product(range(cm.shape[0]), range(cm.shape[1])):\n",
    "        plt.text(j, i, format(cm[i, j], fmt),\n",
    "                 horizontalalignment=\"center\",\n",
    "                 color=\"white\" if cm[i, j] > thresh else \"black\")\n",
    "\n",
    "    plt.tight_layout()\n",
    "    plt.ylabel('True label')\n",
    "    plt.xlabel('Predicted label')\n",
    "\n",
    "pred_y = model.predict(X_test.astype(np.float32))\n",
    "pred_y_classes = np.argmax(pred_y, axis = 1) \n",
    "tue_y= np.argmax(y_test, axis = 1) \n",
    "confusion_mtx = confusion_matrix(tue_y, pred_y_classes) \n",
    "plt.figure(figsize=(8, 6))\n",
    "sns.heatmap(confusion_mtx, xticklabels=LABELS, yticklabels=LABELS, annot=True, fmt=\"d\", cmap='Blues')\n",
    "plt.title(\"Confusion matrix\")\n",
    "plt.ylabel('True label')\n",
    "plt.xlabel('Predicted label')\n",
    "plt.show()"
   ]
  },
  {
   "cell_type": "code",
   "execution_count": null,
   "id": "8fa51bc4",
   "metadata": {},
   "outputs": [],
   "source": [
    "for i in range(0, X_test.shape[0]):\n",
    "  pilImg = Image.fromarray(np.uint8(X_test[i]))\n",
    "  pilImg.save(\"/home/carlos/Documents/Base/Images/\" + LABELS[np.argmax(y_test[i])] + \"/\" + str(i) + \".jpg\")"
   ]
  },
  {
   "cell_type": "code",
   "execution_count": null,
   "id": "e6ab2546",
   "metadata": {},
   "outputs": [],
   "source": [
    "model.save('/home/carlos/Documents/Base/Model/last.hdf5')"
   ]
  },
  {
   "cell_type": "code",
   "execution_count": null,
   "id": "2a44349a",
   "metadata": {},
   "outputs": [],
   "source": [
    "!tflite_convert  --output_file=\"/home/carlos/Documents/Base/Model/last.tflite\" --keras_model_file=\"/home/carlos/Documents/Base/Model/last.hdf5\""
   ]
  },
  {
   "cell_type": "code",
   "execution_count": null,
   "id": "90b6b980",
   "metadata": {},
   "outputs": [],
   "source": [
    "%cd /home/carlos/Documents/Base/Maix_Toolbox\n",
    "!./ncc/ncc -i tflite -o k210model --dataset \"/home/carlos/Documents/Base/Images/\" \"/home/carlos/Documents/Base/Model/last.tflite\" \"/home/carlos/Documents/Base/Model/last.kmodel\""
   ]
  },
  {
   "cell_type": "code",
   "execution_count": null,
   "id": "052990d4",
   "metadata": {},
   "outputs": [],
   "source": []
  },
  {
   "cell_type": "code",
   "execution_count": null,
   "id": "ed2e62ae",
   "metadata": {},
   "outputs": [],
   "source": []
  }
 ],
 "metadata": {
  "kernelspec": {
   "display_name": "Python [conda env:myenv] *",
   "language": "python",
   "name": "conda-env-myenv-py"
  },
  "language_info": {
   "codemirror_mode": {
    "name": "ipython",
    "version": 3
   },
   "file_extension": ".py",
   "mimetype": "text/x-python",
   "name": "python",
   "nbconvert_exporter": "python",
   "pygments_lexer": "ipython3",
   "version": "3.6.9"
  }
 },
 "nbformat": 4,
 "nbformat_minor": 5
}
